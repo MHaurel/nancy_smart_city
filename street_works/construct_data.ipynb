{
 "cells": [
  {
   "cell_type": "code",
   "execution_count": 1,
   "metadata": {},
   "outputs": [],
   "source": [
    "import pandas as pd\n",
    "import numpy as np"
   ]
  },
  {
   "cell_type": "code",
   "execution_count": 2,
   "metadata": {},
   "outputs": [
    {
     "data": {
      "text/html": [
       "<div>\n",
       "<style scoped>\n",
       "    .dataframe tbody tr th:only-of-type {\n",
       "        vertical-align: middle;\n",
       "    }\n",
       "\n",
       "    .dataframe tbody tr th {\n",
       "        vertical-align: top;\n",
       "    }\n",
       "\n",
       "    .dataframe thead th {\n",
       "        text-align: right;\n",
       "    }\n",
       "</style>\n",
       "<table border=\"1\" class=\"dataframe\">\n",
       "  <thead>\n",
       "    <tr style=\"text-align: right;\">\n",
       "      <th></th>\n",
       "      <th>incidents</th>\n",
       "    </tr>\n",
       "  </thead>\n",
       "  <tbody>\n",
       "    <tr>\n",
       "      <th>0</th>\n",
       "      <td>{'type': 'CONSTRUCTION', 'description': 'Chant...</td>\n",
       "    </tr>\n",
       "    <tr>\n",
       "      <th>1</th>\n",
       "      <td>{'type': 'CONSTRUCTION', 'description': 'Trava...</td>\n",
       "    </tr>\n",
       "    <tr>\n",
       "      <th>2</th>\n",
       "      <td>{'type': 'CONSTRUCTION', 'description': 'Trava...</td>\n",
       "    </tr>\n",
       "    <tr>\n",
       "      <th>3</th>\n",
       "      <td>{'type': 'CONSTRUCTION', 'description': 'Chant...</td>\n",
       "    </tr>\n",
       "    <tr>\n",
       "      <th>4</th>\n",
       "      <td>{'type': 'CONSTRUCTION', 'description': 'Chant...</td>\n",
       "    </tr>\n",
       "  </tbody>\n",
       "</table>\n",
       "</div>"
      ],
      "text/plain": [
       "                                           incidents\n",
       "0  {'type': 'CONSTRUCTION', 'description': 'Chant...\n",
       "1  {'type': 'CONSTRUCTION', 'description': 'Trava...\n",
       "2  {'type': 'CONSTRUCTION', 'description': 'Trava...\n",
       "3  {'type': 'CONSTRUCTION', 'description': 'Chant...\n",
       "4  {'type': 'CONSTRUCTION', 'description': 'Chant..."
      ]
     },
     "execution_count": 2,
     "metadata": {},
     "output_type": "execute_result"
    }
   ],
   "source": [
    "df_all = pd.read_json('./data.json')\n",
    "df_all.head()"
   ]
  },
  {
   "cell_type": "code",
   "execution_count": 3,
   "metadata": {},
   "outputs": [
    {
     "data": {
      "text/plain": [
       "(25, 1)"
      ]
     },
     "execution_count": 3,
     "metadata": {},
     "output_type": "execute_result"
    }
   ],
   "source": [
    "df_all.shape"
   ]
  },
  {
   "cell_type": "code",
   "execution_count": 4,
   "metadata": {},
   "outputs": [],
   "source": [
    "df = pd.DataFrame()\n",
    "\n",
    "for i in range(len(df_all)):\n",
    "    df = pd.concat([df, pd.DataFrame().from_dict(df_all.iloc[i][0])])"
   ]
  },
  {
   "cell_type": "code",
   "execution_count": 5,
   "metadata": {},
   "outputs": [
    {
     "data": {
      "text/html": [
       "<div>\n",
       "<style scoped>\n",
       "    .dataframe tbody tr th:only-of-type {\n",
       "        vertical-align: middle;\n",
       "    }\n",
       "\n",
       "    .dataframe tbody tr th {\n",
       "        vertical-align: top;\n",
       "    }\n",
       "\n",
       "    .dataframe thead th {\n",
       "        text-align: right;\n",
       "    }\n",
       "</style>\n",
       "<table border=\"1\" class=\"dataframe\">\n",
       "  <thead>\n",
       "    <tr style=\"text-align: right;\">\n",
       "      <th></th>\n",
       "      <th>type</th>\n",
       "      <th>description</th>\n",
       "      <th>short_description</th>\n",
       "      <th>starttime</th>\n",
       "      <th>endtime</th>\n",
       "      <th>location</th>\n",
       "      <th>source</th>\n",
       "      <th>updatetime</th>\n",
       "      <th>creationtime</th>\n",
       "      <th>id</th>\n",
       "    </tr>\n",
       "  </thead>\n",
       "  <tbody>\n",
       "    <tr>\n",
       "      <th>street</th>\n",
       "      <td>CONSTRUCTION</td>\n",
       "      <td>Chantier ponctuel - Voirie: Rue barrée *** Dél...</td>\n",
       "      <td>Chantier ponctuel - Voirie</td>\n",
       "      <td>2022-05-30T00:00:00</td>\n",
       "      <td>2022-06-14T00:00:00</td>\n",
       "      <td>Rue de la Visitation</td>\n",
       "      <td>NaN</td>\n",
       "      <td>2022-05-10T15:01:01.604087</td>\n",
       "      <td>2022-05-10T15:01:01.604065</td>\n",
       "      <td>FrMdGN54148195</td>\n",
       "    </tr>\n",
       "    <tr>\n",
       "      <th>polyline</th>\n",
       "      <td>CONSTRUCTION</td>\n",
       "      <td>Chantier ponctuel - Voirie: Rue barrée *** Dél...</td>\n",
       "      <td>Chantier ponctuel - Voirie</td>\n",
       "      <td>2022-05-30T00:00:00</td>\n",
       "      <td>2022-06-14T00:00:00</td>\n",
       "      <td>48.691750101324644 6.179419395610053</td>\n",
       "      <td>NaN</td>\n",
       "      <td>2022-05-10T15:01:01.604087</td>\n",
       "      <td>2022-05-10T15:01:01.604065</td>\n",
       "      <td>FrMdGN54148195</td>\n",
       "    </tr>\n",
       "    <tr>\n",
       "      <th>location_description</th>\n",
       "      <td>CONSTRUCTION</td>\n",
       "      <td>Chantier ponctuel - Voirie: Rue barrée *** Dél...</td>\n",
       "      <td>Chantier ponctuel - Voirie</td>\n",
       "      <td>2022-05-30T00:00:00</td>\n",
       "      <td>2022-06-14T00:00:00</td>\n",
       "      <td>RUE DE LA VISITATION, NANCY</td>\n",
       "      <td>NaN</td>\n",
       "      <td>2022-05-10T15:01:01.604087</td>\n",
       "      <td>2022-05-10T15:01:01.604065</td>\n",
       "      <td>FrMdGN54148195</td>\n",
       "    </tr>\n",
       "    <tr>\n",
       "      <th>name</th>\n",
       "      <td>CONSTRUCTION</td>\n",
       "      <td>Chantier ponctuel - Voirie: Rue barrée *** Dél...</td>\n",
       "      <td>Chantier ponctuel - Voirie</td>\n",
       "      <td>2022-05-30T00:00:00</td>\n",
       "      <td>2022-06-14T00:00:00</td>\n",
       "      <td>NaN</td>\n",
       "      <td>Métropole du Grand Nancy</td>\n",
       "      <td>2022-05-10T15:01:01.604087</td>\n",
       "      <td>2022-05-10T15:01:01.604065</td>\n",
       "      <td>FrMdGN54148195</td>\n",
       "    </tr>\n",
       "    <tr>\n",
       "      <th>reference</th>\n",
       "      <td>CONSTRUCTION</td>\n",
       "      <td>Chantier ponctuel - Voirie: Rue barrée *** Dél...</td>\n",
       "      <td>Chantier ponctuel - Voirie</td>\n",
       "      <td>2022-05-30T00:00:00</td>\n",
       "      <td>2022-06-14T00:00:00</td>\n",
       "      <td>NaN</td>\n",
       "      <td>Grand_Nancy</td>\n",
       "      <td>2022-05-10T15:01:01.604087</td>\n",
       "      <td>2022-05-10T15:01:01.604065</td>\n",
       "      <td>FrMdGN54148195</td>\n",
       "    </tr>\n",
       "  </tbody>\n",
       "</table>\n",
       "</div>"
      ],
      "text/plain": [
       "                              type  \\\n",
       "street                CONSTRUCTION   \n",
       "polyline              CONSTRUCTION   \n",
       "location_description  CONSTRUCTION   \n",
       "name                  CONSTRUCTION   \n",
       "reference             CONSTRUCTION   \n",
       "\n",
       "                                                            description  \\\n",
       "street                Chantier ponctuel - Voirie: Rue barrée *** Dél...   \n",
       "polyline              Chantier ponctuel - Voirie: Rue barrée *** Dél...   \n",
       "location_description  Chantier ponctuel - Voirie: Rue barrée *** Dél...   \n",
       "name                  Chantier ponctuel - Voirie: Rue barrée *** Dél...   \n",
       "reference             Chantier ponctuel - Voirie: Rue barrée *** Dél...   \n",
       "\n",
       "                               short_description            starttime  \\\n",
       "street                Chantier ponctuel - Voirie  2022-05-30T00:00:00   \n",
       "polyline              Chantier ponctuel - Voirie  2022-05-30T00:00:00   \n",
       "location_description  Chantier ponctuel - Voirie  2022-05-30T00:00:00   \n",
       "name                  Chantier ponctuel - Voirie  2022-05-30T00:00:00   \n",
       "reference             Chantier ponctuel - Voirie  2022-05-30T00:00:00   \n",
       "\n",
       "                                  endtime  \\\n",
       "street                2022-06-14T00:00:00   \n",
       "polyline              2022-06-14T00:00:00   \n",
       "location_description  2022-06-14T00:00:00   \n",
       "name                  2022-06-14T00:00:00   \n",
       "reference             2022-06-14T00:00:00   \n",
       "\n",
       "                                                  location  \\\n",
       "street                                Rue de la Visitation   \n",
       "polyline              48.691750101324644 6.179419395610053   \n",
       "location_description           RUE DE LA VISITATION, NANCY   \n",
       "name                                                   NaN   \n",
       "reference                                              NaN   \n",
       "\n",
       "                                        source                  updatetime  \\\n",
       "street                                     NaN  2022-05-10T15:01:01.604087   \n",
       "polyline                                   NaN  2022-05-10T15:01:01.604087   \n",
       "location_description                       NaN  2022-05-10T15:01:01.604087   \n",
       "name                  Métropole du Grand Nancy  2022-05-10T15:01:01.604087   \n",
       "reference                          Grand_Nancy  2022-05-10T15:01:01.604087   \n",
       "\n",
       "                                    creationtime              id  \n",
       "street                2022-05-10T15:01:01.604065  FrMdGN54148195  \n",
       "polyline              2022-05-10T15:01:01.604065  FrMdGN54148195  \n",
       "location_description  2022-05-10T15:01:01.604065  FrMdGN54148195  \n",
       "name                  2022-05-10T15:01:01.604065  FrMdGN54148195  \n",
       "reference             2022-05-10T15:01:01.604065  FrMdGN54148195  "
      ]
     },
     "execution_count": 5,
     "metadata": {},
     "output_type": "execute_result"
    }
   ],
   "source": [
    "df.head()"
   ]
  },
  {
   "cell_type": "code",
   "execution_count": 16,
   "metadata": {},
   "outputs": [
    {
     "name": "stdout",
     "output_type": "stream",
     "text": [
      "<class 'pandas.core.frame.DataFrame'>\n",
      "Index: 125 entries, street to reference\n",
      "Data columns (total 10 columns):\n",
      " #   Column             Non-Null Count  Dtype \n",
      "---  ------             --------------  ----- \n",
      " 0   type               125 non-null    object\n",
      " 1   description        125 non-null    object\n",
      " 2   short_description  125 non-null    object\n",
      " 3   starttime          125 non-null    object\n",
      " 4   endtime            125 non-null    object\n",
      " 5   location           75 non-null     object\n",
      " 6   source             50 non-null     object\n",
      " 7   updatetime         125 non-null    object\n",
      " 8   creationtime       125 non-null    object\n",
      " 9   id                 125 non-null    object\n",
      "dtypes: object(10)\n",
      "memory usage: 10.7+ KB\n"
     ]
    }
   ],
   "source": [
    "df.info()"
   ]
  },
  {
   "cell_type": "code",
   "execution_count": 17,
   "metadata": {},
   "outputs": [
    {
     "data": {
      "text/plain": [
       "(125, 10)"
      ]
     },
     "execution_count": 17,
     "metadata": {},
     "output_type": "execute_result"
    }
   ],
   "source": [
    "df.shape"
   ]
  },
  {
   "cell_type": "code",
   "execution_count": 36,
   "metadata": {},
   "outputs": [],
   "source": [
    "def get_locations(df):\n",
    "    for i in range(len(df)):\n",
    "        df_sample = pd.DataFrame(df.iloc[i][\"location\"]) # [\"polyline\"]\n",
    "    return df_sample"
   ]
  },
  {
   "cell_type": "code",
   "execution_count": 37,
   "metadata": {},
   "outputs": [
    {
     "ename": "ValueError",
     "evalue": "DataFrame constructor not properly called!",
     "output_type": "error",
     "traceback": [
      "\u001b[1;31m---------------------------------------------------------------------------\u001b[0m",
      "\u001b[1;31mValueError\u001b[0m                                Traceback (most recent call last)",
      "\u001b[1;32md:\\users\\maxim\\Documents\\IA\\smart_city\\nancy\\travaux_actuel\\construct_data.ipynb Cell 9'\u001b[0m in \u001b[0;36m<cell line: 1>\u001b[1;34m()\u001b[0m\n\u001b[1;32m----> <a href='vscode-notebook-cell:/d%3A/users/maxim/Documents/IA/smart_city/nancy/travaux_actuel/construct_data.ipynb#ch0000009?line=0'>1</a>\u001b[0m get_locations(df)\n",
      "\u001b[1;32md:\\users\\maxim\\Documents\\IA\\smart_city\\nancy\\travaux_actuel\\construct_data.ipynb Cell 8'\u001b[0m in \u001b[0;36mget_locations\u001b[1;34m(df)\u001b[0m\n\u001b[0;32m      <a href='vscode-notebook-cell:/d%3A/users/maxim/Documents/IA/smart_city/nancy/travaux_actuel/construct_data.ipynb#ch0000008?line=0'>1</a>\u001b[0m \u001b[39mdef\u001b[39;00m \u001b[39mget_locations\u001b[39m(df):\n\u001b[0;32m      <a href='vscode-notebook-cell:/d%3A/users/maxim/Documents/IA/smart_city/nancy/travaux_actuel/construct_data.ipynb#ch0000008?line=1'>2</a>\u001b[0m     \u001b[39mfor\u001b[39;00m i \u001b[39min\u001b[39;00m \u001b[39mrange\u001b[39m(\u001b[39mlen\u001b[39m(df)):\n\u001b[1;32m----> <a href='vscode-notebook-cell:/d%3A/users/maxim/Documents/IA/smart_city/nancy/travaux_actuel/construct_data.ipynb#ch0000008?line=2'>3</a>\u001b[0m         df_sample \u001b[39m=\u001b[39m pd\u001b[39m.\u001b[39;49mDataFrame(df\u001b[39m.\u001b[39;49miloc[i][\u001b[39m\"\u001b[39;49m\u001b[39mlocation\u001b[39;49m\u001b[39m\"\u001b[39;49m]) \u001b[39m# [\"polyline\"]\u001b[39;00m\n\u001b[0;32m      <a href='vscode-notebook-cell:/d%3A/users/maxim/Documents/IA/smart_city/nancy/travaux_actuel/construct_data.ipynb#ch0000008?line=3'>4</a>\u001b[0m     \u001b[39mreturn\u001b[39;00m df_sample\n",
      "File \u001b[1;32md:\\users\\maxim\\Documents\\IA\\smart_city\\nancy\\venv\\lib\\site-packages\\pandas\\core\\frame.py:756\u001b[0m, in \u001b[0;36mDataFrame.__init__\u001b[1;34m(self, data, index, columns, dtype, copy)\u001b[0m\n\u001b[0;32m    <a href='file:///d%3A/users/maxim/Documents/IA/smart_city/nancy/venv/lib/site-packages/pandas/core/frame.py?line=752'>753</a>\u001b[0m \u001b[39m# For data is scalar\u001b[39;00m\n\u001b[0;32m    <a href='file:///d%3A/users/maxim/Documents/IA/smart_city/nancy/venv/lib/site-packages/pandas/core/frame.py?line=753'>754</a>\u001b[0m \u001b[39melse\u001b[39;00m:\n\u001b[0;32m    <a href='file:///d%3A/users/maxim/Documents/IA/smart_city/nancy/venv/lib/site-packages/pandas/core/frame.py?line=754'>755</a>\u001b[0m     \u001b[39mif\u001b[39;00m index \u001b[39mis\u001b[39;00m \u001b[39mNone\u001b[39;00m \u001b[39mor\u001b[39;00m columns \u001b[39mis\u001b[39;00m \u001b[39mNone\u001b[39;00m:\n\u001b[1;32m--> <a href='file:///d%3A/users/maxim/Documents/IA/smart_city/nancy/venv/lib/site-packages/pandas/core/frame.py?line=755'>756</a>\u001b[0m         \u001b[39mraise\u001b[39;00m \u001b[39mValueError\u001b[39;00m(\u001b[39m\"\u001b[39m\u001b[39mDataFrame constructor not properly called!\u001b[39m\u001b[39m\"\u001b[39m)\n\u001b[0;32m    <a href='file:///d%3A/users/maxim/Documents/IA/smart_city/nancy/venv/lib/site-packages/pandas/core/frame.py?line=757'>758</a>\u001b[0m     \u001b[39m# Argument 1 to \"ensure_index\" has incompatible type \"Collection[Any]\";\u001b[39;00m\n\u001b[0;32m    <a href='file:///d%3A/users/maxim/Documents/IA/smart_city/nancy/venv/lib/site-packages/pandas/core/frame.py?line=758'>759</a>\u001b[0m     \u001b[39m# expected \"Union[Union[Union[ExtensionArray, ndarray],\u001b[39;00m\n\u001b[0;32m    <a href='file:///d%3A/users/maxim/Documents/IA/smart_city/nancy/venv/lib/site-packages/pandas/core/frame.py?line=759'>760</a>\u001b[0m     \u001b[39m# Index, Series], Sequence[Any]]\"\u001b[39;00m\n\u001b[0;32m    <a href='file:///d%3A/users/maxim/Documents/IA/smart_city/nancy/venv/lib/site-packages/pandas/core/frame.py?line=760'>761</a>\u001b[0m     index \u001b[39m=\u001b[39m ensure_index(index)  \u001b[39m# type: ignore[arg-type]\u001b[39;00m\n",
      "\u001b[1;31mValueError\u001b[0m: DataFrame constructor not properly called!"
     ]
    }
   ],
   "source": [
    "get_locations(df)"
   ]
  },
  {
   "cell_type": "code",
   "execution_count": 10,
   "metadata": {},
   "outputs": [],
   "source": [
    "import json"
   ]
  },
  {
   "cell_type": "code",
   "execution_count": 11,
   "metadata": {},
   "outputs": [],
   "source": [
    "with open('./data.json', 'r') as f:\n",
    "    j = json.load(f)"
   ]
  },
  {
   "cell_type": "code",
   "execution_count": 15,
   "metadata": {},
   "outputs": [
    {
     "data": {
      "text/plain": [
       "{'type': 'CONSTRUCTION',\n",
       " 'description': 'Chantier ponctuel - Voirie: Rue barrÃ©e *** DÃ©lestage-DÃ©viatÂ°: DÃ©viation',\n",
       " 'short_description': 'Chantier ponctuel - Voirie',\n",
       " 'starttime': '2022-05-30T00:00:00',\n",
       " 'endtime': '2022-06-14T00:00:00',\n",
       " 'location': {'street': 'Rue de la Visitation',\n",
       "  'polyline': '48.691750101324644 6.179419395610053',\n",
       "  'location_description': 'RUE DE LA VISITATION, NANCY'},\n",
       " 'source': {'name': 'MÃ©tropole du Grand Nancy', 'reference': 'Grand_Nancy'},\n",
       " 'updatetime': '2022-05-10T15:01:01.604087',\n",
       " 'creationtime': '2022-05-10T15:01:01.604065',\n",
       " 'id': 'FrMdGN54148195'}"
      ]
     },
     "execution_count": 15,
     "metadata": {},
     "output_type": "execute_result"
    }
   ],
   "source": [
    "j[\"incidents\"][0]"
   ]
  },
  {
   "cell_type": "code",
   "execution_count": 23,
   "metadata": {},
   "outputs": [
    {
     "data": {
      "text/plain": [
       "(25, 3)"
      ]
     },
     "execution_count": 23,
     "metadata": {},
     "output_type": "execute_result"
    }
   ],
   "source": [
    "dfs = []\n",
    "\n",
    "dict_df = {\n",
    "    'short_desc': [],\n",
    "    'street': [],\n",
    "    'coords': []\n",
    "}\n",
    "\n",
    "for item in j[\"incidents\"]:\n",
    "    s_desc = item[\"short_description\"]\n",
    "    street = item['location']['street']\n",
    "    coords = (item['location']['polyline'].split(' ')[0], item['location']['polyline'].split(' ')[1])\n",
    "    dict_df['short_desc'].append(s_desc)\n",
    "    dict_df['street'].append(street)\n",
    "    dict_df['coords'].append(coords)\n",
    "\n",
    "df = pd.DataFrame().from_dict(dict_df)\n",
    "df.shape"
   ]
  },
  {
   "cell_type": "code",
   "execution_count": 22,
   "metadata": {},
   "outputs": [
    {
     "data": {
      "text/html": [
       "<div>\n",
       "<style scoped>\n",
       "    .dataframe tbody tr th:only-of-type {\n",
       "        vertical-align: middle;\n",
       "    }\n",
       "\n",
       "    .dataframe tbody tr th {\n",
       "        vertical-align: top;\n",
       "    }\n",
       "\n",
       "    .dataframe thead th {\n",
       "        text-align: right;\n",
       "    }\n",
       "</style>\n",
       "<table border=\"1\" class=\"dataframe\">\n",
       "  <thead>\n",
       "    <tr style=\"text-align: right;\">\n",
       "      <th></th>\n",
       "      <th>short_desc</th>\n",
       "      <th>street</th>\n",
       "      <th>coords</th>\n",
       "    </tr>\n",
       "  </thead>\n",
       "  <tbody>\n",
       "    <tr>\n",
       "      <th>0</th>\n",
       "      <td>Chantier ponctuel - Voirie</td>\n",
       "      <td>Rue de la Visitation</td>\n",
       "      <td>(48.691750101324644, 6.179419395610053)</td>\n",
       "    </tr>\n",
       "    <tr>\n",
       "      <th>1</th>\n",
       "      <td>Travaux coordonnÃ©s - Voirie</td>\n",
       "      <td>Rue Henri PoincarÃ©</td>\n",
       "      <td>(48.69144202363623, 6.178126570551573)</td>\n",
       "    </tr>\n",
       "    <tr>\n",
       "      <th>2</th>\n",
       "      <td>Travaux coordonnÃ©s - Voirie</td>\n",
       "      <td>Place Dombasle</td>\n",
       "      <td>(48.691693443073675, 6.178003189109225)</td>\n",
       "    </tr>\n",
       "    <tr>\n",
       "      <th>3</th>\n",
       "      <td>Chantier ponctuel - Voirie</td>\n",
       "      <td>&gt; Houdemont</td>\n",
       "      <td>(48.66474070769236, 6.189234869892827)</td>\n",
       "    </tr>\n",
       "    <tr>\n",
       "      <th>4</th>\n",
       "      <td>Chantier ponctuel - Voirie</td>\n",
       "      <td>Rue des Quatre Ã‰glises</td>\n",
       "      <td>(48.687581923307036, 6.1834227123778565)</td>\n",
       "    </tr>\n",
       "  </tbody>\n",
       "</table>\n",
       "</div>"
      ],
      "text/plain": [
       "                     short_desc                   street  \\\n",
       "0    Chantier ponctuel - Voirie     Rue de la Visitation   \n",
       "1  Travaux coordonnÃ©s - Voirie      Rue Henri PoincarÃ©   \n",
       "2  Travaux coordonnÃ©s - Voirie           Place Dombasle   \n",
       "3    Chantier ponctuel - Voirie              > Houdemont   \n",
       "4    Chantier ponctuel - Voirie  Rue des Quatre Ã‰glises   \n",
       "\n",
       "                                     coords  \n",
       "0   (48.691750101324644, 6.179419395610053)  \n",
       "1    (48.69144202363623, 6.178126570551573)  \n",
       "2   (48.691693443073675, 6.178003189109225)  \n",
       "3    (48.66474070769236, 6.189234869892827)  \n",
       "4  (48.687581923307036, 6.1834227123778565)  "
      ]
     },
     "execution_count": 22,
     "metadata": {},
     "output_type": "execute_result"
    }
   ],
   "source": [
    "df.head()"
   ]
  },
  {
   "cell_type": "code",
   "execution_count": null,
   "metadata": {},
   "outputs": [],
   "source": []
  }
 ],
 "metadata": {
  "interpreter": {
   "hash": "e01b1ecc9adbe0d1e5ceddf4b344ef090317feefed8478aeb330994d737c14f2"
  },
  "kernelspec": {
   "display_name": "Python 3.10.2 ('venv')",
   "language": "python",
   "name": "python3"
  },
  "language_info": {
   "codemirror_mode": {
    "name": "ipython",
    "version": 3
   },
   "file_extension": ".py",
   "mimetype": "text/x-python",
   "name": "python",
   "nbconvert_exporter": "python",
   "pygments_lexer": "ipython3",
   "version": "3.10.2"
  },
  "orig_nbformat": 4
 },
 "nbformat": 4,
 "nbformat_minor": 2
}
